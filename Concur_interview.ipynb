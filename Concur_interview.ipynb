{
 "cells": [
  {
   "cell_type": "markdown",
   "metadata": {},
   "source": [
    "**Write a function (in any language of the candidate’s choice) which returns True if the input integer array contains any two elements summing to 42. Return False otherwise**"
   ]
  },
  {
   "cell_type": "code",
   "execution_count": 32,
   "metadata": {
    "collapsed": false
   },
   "outputs": [
    {
     "name": "stdout",
     "output_type": "stream",
     "text": [
      "Test for the sum_42 function was sucessful!\n"
     ]
    }
   ],
   "source": [
    "def sum_42(x):\n",
    "    \"\"\"\n",
    "    x is an array contains any number of integers \n",
    "    \"\"\"\n",
    "    \n",
    "    x = list(x)\n",
    "    if len(x) < 2:\n",
    "        return False\n",
    "    if x.count(21) >= 2:\n",
    "        return True\n",
    "    else:\n",
    "        for i in x:\n",
    "            if i != 21 and 42-i in x:\n",
    "                return True\n",
    "    return False\n",
    "\n",
    "if __name__ == '__main__':\n",
    "    if (sum_42([42]) == False \n",
    "        and sum_42([1,5,8,9,20,19,40,21, 3, 33, 5]) == True \n",
    "        and sum_42([21, 4, 21, 69, 21, 21]) == True\n",
    "        and sum_42([-2, 44]) == True\n",
    "        and sum_42([46, 500, 188, 230]) == False\n",
    "        ):\n",
    "        print(\"Test for the sum_42 function was sucessful!\")\n",
    "    else:\n",
    "        print(\"Test for the sum_42 function failed!\")"
   ]
  },
  {
   "cell_type": "markdown",
   "metadata": {},
   "source": [
    "**REFERENCE:**\n",
    "+ python unit testing: http://www.python-course.eu/python3_tests.php"
   ]
  }
 ],
 "metadata": {
  "kernelspec": {
   "display_name": "Python 3",
   "language": "python",
   "name": "python3"
  },
  "language_info": {
   "codemirror_mode": {
    "name": "ipython",
    "version": 3
   },
   "file_extension": ".py",
   "mimetype": "text/x-python",
   "name": "python",
   "nbconvert_exporter": "python",
   "pygments_lexer": "ipython3",
   "version": "3.5.2"
  }
 },
 "nbformat": 4,
 "nbformat_minor": 0
}
